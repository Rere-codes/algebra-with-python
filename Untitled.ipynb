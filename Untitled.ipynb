{
 "cells": [
  {
   "cell_type": "code",
   "execution_count": 2,
   "id": "ed7bd166",
   "metadata": {},
   "outputs": [],
   "source": [
    "import numpy as np"
   ]
  },
  {
   "cell_type": "code",
   "execution_count": 3,
   "id": "0cea4fa6",
   "metadata": {},
   "outputs": [],
   "source": [
    "A = np.array([ [1,1,1], [1,1,0], [1,1,1], [0,1,1], [1,0,1], [0,1,1], [1,0,0]])\n",
    "B = np.array([ [7.52], [14.83], [12.91]])"
   ]
  },
  {
   "cell_type": "code",
   "execution_count": 4,
   "id": "d6a0a916",
   "metadata": {},
   "outputs": [
    {
     "data": {
      "text/plain": [
       "array([[35.26],\n",
       "       [22.35],\n",
       "       [35.26],\n",
       "       [27.74],\n",
       "       [20.43],\n",
       "       [27.74],\n",
       "       [ 7.52]])"
      ]
     },
     "execution_count": 4,
     "metadata": {},
     "output_type": "execute_result"
    }
   ],
   "source": [
    "np.dot(A,B)"
   ]
  },
  {
   "cell_type": "code",
   "execution_count": 8,
   "id": "47944a86",
   "metadata": {},
   "outputs": [
    {
     "data": {
      "text/plain": [
       "2.5820000000000003"
      ]
     },
     "execution_count": 8,
     "metadata": {},
     "output_type": "execute_result"
    }
   ],
   "source": [
    "12.91 * 0.2 "
   ]
  }
 ],
 "metadata": {
  "kernelspec": {
   "display_name": "Python 3 (ipykernel)",
   "language": "python",
   "name": "python3"
  },
  "language_info": {
   "codemirror_mode": {
    "name": "ipython",
    "version": 3
   },
   "file_extension": ".py",
   "mimetype": "text/x-python",
   "name": "python",
   "nbconvert_exporter": "python",
   "pygments_lexer": "ipython3",
   "version": "3.11.4"
  }
 },
 "nbformat": 4,
 "nbformat_minor": 5
}
